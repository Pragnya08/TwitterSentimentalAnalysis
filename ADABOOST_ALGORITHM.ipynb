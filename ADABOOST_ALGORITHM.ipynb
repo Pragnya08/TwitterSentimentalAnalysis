{
 "cells": [
  {
   "cell_type": "code",
   "execution_count": 1,
   "id": "62d01b31",
   "metadata": {},
   "outputs": [],
   "source": [
    "import pandas as pd\n",
    "import numpy as np\n",
    "from sklearn.model_selection import train_test_split\n",
    "from sklearn.ensemble import AdaBoostClassifier\n",
    "from sklearn.datasets import make_classification\n",
    "from sklearn.metrics import confusion_matrix\n",
    "import warnings\n",
    "warnings.filterwarnings(\"ignore\")"
   ]
  },
  {
   "cell_type": "code",
   "execution_count": 2,
   "id": "a517b73f",
   "metadata": {},
   "outputs": [],
   "source": [
    "data=pd.read_csv('Dataset - Sheet1.csv')"
   ]
  },
  {
   "cell_type": "code",
   "execution_count": 3,
   "id": "e0150c97",
   "metadata": {},
   "outputs": [
    {
     "name": "stdout",
     "output_type": "stream",
     "text": [
      "(292, 6)\n"
     ]
    }
   ],
   "source": [
    "print(data.shape)"
   ]
  },
  {
   "cell_type": "code",
   "execution_count": 4,
   "id": "176a7f96",
   "metadata": {
    "scrolled": true
   },
   "outputs": [
    {
     "data": {
      "text/html": [
       "<div>\n",
       "<style scoped>\n",
       "    .dataframe tbody tr th:only-of-type {\n",
       "        vertical-align: middle;\n",
       "    }\n",
       "\n",
       "    .dataframe tbody tr th {\n",
       "        vertical-align: top;\n",
       "    }\n",
       "\n",
       "    .dataframe thead th {\n",
       "        text-align: right;\n",
       "    }\n",
       "</style>\n",
       "<table border=\"1\" class=\"dataframe\">\n",
       "  <thead>\n",
       "    <tr style=\"text-align: right;\">\n",
       "      <th></th>\n",
       "      <th>Id</th>\n",
       "      <th>Sentiment</th>\n",
       "      <th>Day</th>\n",
       "      <th>SentimentText</th>\n",
       "      <th>Year</th>\n",
       "      <th>Gender</th>\n",
       "    </tr>\n",
       "  </thead>\n",
       "  <tbody>\n",
       "    <tr>\n",
       "      <th>0</th>\n",
       "      <td>1792642663</td>\n",
       "      <td>0</td>\n",
       "      <td>Mon</td>\n",
       "      <td>is so sad for my APL friend.............</td>\n",
       "      <td>2018</td>\n",
       "      <td>Male</td>\n",
       "    </tr>\n",
       "    <tr>\n",
       "      <th>1</th>\n",
       "      <td>1467810672</td>\n",
       "      <td>0</td>\n",
       "      <td>Tue</td>\n",
       "      <td>I missed the New Moon trailer...</td>\n",
       "      <td>2018</td>\n",
       "      <td>Male</td>\n",
       "    </tr>\n",
       "    <tr>\n",
       "      <th>2</th>\n",
       "      <td>1467810917</td>\n",
       "      <td>1</td>\n",
       "      <td>Wed</td>\n",
       "      <td>omg its already 7:30 :O</td>\n",
       "      <td>2018</td>\n",
       "      <td>Male</td>\n",
       "    </tr>\n",
       "    <tr>\n",
       "      <th>3</th>\n",
       "      <td>1467811184</td>\n",
       "      <td>0</td>\n",
       "      <td>Thu</td>\n",
       "      <td>.. Omgaga. Im sooo im gunna CRy. I've been at ...</td>\n",
       "      <td>2018</td>\n",
       "      <td>Male</td>\n",
       "    </tr>\n",
       "    <tr>\n",
       "      <th>4</th>\n",
       "      <td>1467811193</td>\n",
       "      <td>0</td>\n",
       "      <td>Fri</td>\n",
       "      <td>i think mi bf is cheating on me!!!  T_T</td>\n",
       "      <td>2018</td>\n",
       "      <td>Male</td>\n",
       "    </tr>\n",
       "    <tr>\n",
       "      <th>5</th>\n",
       "      <td>1467811372</td>\n",
       "      <td>0</td>\n",
       "      <td>Sat</td>\n",
       "      <td>or i just worry too much?</td>\n",
       "      <td>2018</td>\n",
       "      <td>Female</td>\n",
       "    </tr>\n",
       "    <tr>\n",
       "      <th>6</th>\n",
       "      <td>1467811592</td>\n",
       "      <td>1</td>\n",
       "      <td>Sun</td>\n",
       "      <td>Juuuuuuuuuuuuuuuuussssst Chillin!!</td>\n",
       "      <td>2018</td>\n",
       "      <td>Female</td>\n",
       "    </tr>\n",
       "    <tr>\n",
       "      <th>7</th>\n",
       "      <td>1467811594</td>\n",
       "      <td>0</td>\n",
       "      <td>Mon</td>\n",
       "      <td>Sunny Again Work Tomorrow :-|  TV Tonight</td>\n",
       "      <td>2018</td>\n",
       "      <td>Female</td>\n",
       "    </tr>\n",
       "    <tr>\n",
       "      <th>8</th>\n",
       "      <td>1467811795</td>\n",
       "      <td>1</td>\n",
       "      <td>Tue</td>\n",
       "      <td>handed in my uniform today . i miss you already</td>\n",
       "      <td>2018</td>\n",
       "      <td>Female</td>\n",
       "    </tr>\n",
       "    <tr>\n",
       "      <th>9</th>\n",
       "      <td>1467812025</td>\n",
       "      <td>1</td>\n",
       "      <td>Wed</td>\n",
       "      <td>hmmmm.... i wonder how she my number @-)</td>\n",
       "      <td>2018</td>\n",
       "      <td>Female</td>\n",
       "    </tr>\n",
       "  </tbody>\n",
       "</table>\n",
       "</div>"
      ],
      "text/plain": [
       "           Id  Sentiment  Day  \\\n",
       "0  1792642663          0  Mon   \n",
       "1  1467810672          0  Tue   \n",
       "2  1467810917          1  Wed   \n",
       "3  1467811184          0  Thu   \n",
       "4  1467811193          0  Fri   \n",
       "5  1467811372          0  Sat   \n",
       "6  1467811592          1  Sun   \n",
       "7  1467811594          0  Mon   \n",
       "8  1467811795          1  Tue   \n",
       "9  1467812025          1  Wed   \n",
       "\n",
       "                                       SentimentText  Year  Gender  \n",
       "0           is so sad for my APL friend.............  2018    Male  \n",
       "1                   I missed the New Moon trailer...  2018    Male  \n",
       "2                            omg its already 7:30 :O  2018    Male  \n",
       "3  .. Omgaga. Im sooo im gunna CRy. I've been at ...  2018    Male  \n",
       "4            i think mi bf is cheating on me!!!  T_T  2018    Male  \n",
       "5                          or i just worry too much?  2018  Female  \n",
       "6                 Juuuuuuuuuuuuuuuuussssst Chillin!!  2018  Female  \n",
       "7          Sunny Again Work Tomorrow :-|  TV Tonight  2018  Female  \n",
       "8    handed in my uniform today . i miss you already  2018  Female  \n",
       "9           hmmmm.... i wonder how she my number @-)  2018  Female  "
      ]
     },
     "execution_count": 4,
     "metadata": {},
     "output_type": "execute_result"
    }
   ],
   "source": [
    "data.head(10)"
   ]
  },
  {
   "cell_type": "code",
   "execution_count": 5,
   "id": "9a285b66",
   "metadata": {},
   "outputs": [
    {
     "name": "stdout",
     "output_type": "stream",
     "text": [
      "Shape of X is (292, 4) and shape of y is (292,)\n"
     ]
    }
   ],
   "source": [
    "data = data.drop('Id',axis=1)\n",
    "X = data.iloc[:,:-1]\n",
    "y = data.iloc[:,-1]\n",
    "print(\"Shape of X is %s and shape of y is %s\"%(X.shape,y.shape))"
   ]
  },
  {
   "cell_type": "code",
   "execution_count": 6,
   "id": "43e8a608",
   "metadata": {},
   "outputs": [
    {
     "name": "stdout",
     "output_type": "stream",
     "text": [
      "Number of unique dataset are:  2\n"
     ]
    }
   ],
   "source": [
    "total_classes = y.nunique()\n",
    "print(\"Number of unique dataset are: \",total_classes)"
   ]
  },
  {
   "cell_type": "code",
   "execution_count": 7,
   "id": "10ccef29",
   "metadata": {},
   "outputs": [
    {
     "name": "stdout",
     "output_type": "stream",
     "text": [
      "Female    153\n",
      "Male      139\n",
      "Name: Gender, dtype: int64\n"
     ]
    }
   ],
   "source": [
    "distribution = y.value_counts()\n",
    "print(distribution)"
   ]
  },
  {
   "cell_type": "code",
   "execution_count": 8,
   "id": "6039fdc3",
   "metadata": {},
   "outputs": [
    {
     "name": "stdout",
     "output_type": "stream",
     "text": [
      "X_train:       Sentiment  Day                                      SentimentText  Year\n",
      "38           1  Thu                   uploading pictures on friendster  2018\n",
      "247          1  Wed                                         I am happy  2020\n",
      "204          1  Tue  @hawaiibuzz: &quot;yes, i am lol j/k luv this!...  2020\n",
      "104          0  Sun  probably guna get off soon since no one is tal...  2019\n",
      "285          0  Sat  i want some ben&amp;jerrys cake batter please ugh  2020\n",
      "..         ...  ...                                                ...   ...\n",
      "40           0  Sat               &amp;&amp;Fightiin Wiit The Babes...  2018\n",
      "75           0  Sat  i want a 120gb harddrive, or a 37 inch tv, or ...  2018\n",
      "87           0  Thu  in cab headed to the airport! going home.... &...  2018\n",
      "63           1  Mon  i get off work sooooon! i miss cody booo. have...  2018\n",
      "11           1  Fri  thanks to all the haters up in my face all day...  2018\n",
      "\n",
      "[189 rows x 4 columns]\n",
      "y_train:  38       Male\n",
      "247    Female\n",
      "204      Male\n",
      "104    Female\n",
      "285    Female\n",
      "        ...  \n",
      "40       Male\n",
      "75       Male\n",
      "87     Female\n",
      "63       Male\n",
      "11       Male\n",
      "Name: Gender, Length: 189, dtype: object\n",
      "X_test:       Sentiment  Day                                      SentimentText  Year\n",
      "145          1  Sat  &quot;The 10 Men a UK Female Internet Entrepre...  2019\n",
      "81           0  Fri  I wish I could go to T4 On The Beach :'( Would...  2018\n",
      "176          1  Tue  @ taylorrhicks enjoy chicago..b new venue is a...  2019\n",
      "265          0  Sun  --- is our response to what happened today. an...  2020\n",
      "165          1  Fri                       ..... hot choco is the best!  2019\n",
      "..         ...  ...                                                ...   ...\n",
      "288          1  Tue                  ish in a good mood .....tlk to me  2020\n",
      "95           0  Fri  mi momacita won't let me go to my bf's bball g...  2019\n",
      "119          0  Mon                                       very much so  2019\n",
      "35           0  Mon  Really Dont Like Doing my Room Its So Boring S...  2018\n",
      "158          1  Fri  -- . Triiiiiii . ily . even if Chaise doesn't ...  2019\n",
      "\n",
      "[103 rows x 4 columns]\n",
      "y_test:  145    Female\n",
      "81     Female\n",
      "176    Female\n",
      "265    Female\n",
      "165      Male\n",
      "        ...  \n",
      "288    Female\n",
      "95       Male\n",
      "119    Female\n",
      "35       Male\n",
      "158      Male\n",
      "Name: Gender, Length: 103, dtype: object\n"
     ]
    }
   ],
   "source": [
    "import sklearn.model_selection as model_selection\n",
    "X_train, X_test, y_train, y_test = model_selection.train_test_split(X, y, train_size=0.65,test_size=0.35, random_state=101)\n",
    "print (\"X_train: \", X_train)\n",
    "print (\"y_train: \", y_train)\n",
    "print(\"X_test: \", X_test)\n",
    "print (\"y_test: \", y_test)"
   ]
  },
  {
   "cell_type": "code",
   "execution_count": 9,
   "id": "87cff8b9",
   "metadata": {},
   "outputs": [],
   "source": [
    "X, y = make_classification(n_samples=1000, n_features=4,n_informative=2, n_redundant=0,random_state=0, shuffle=False)"
   ]
  },
  {
   "cell_type": "code",
   "execution_count": 10,
   "id": "a3588696",
   "metadata": {},
   "outputs": [
    {
     "data": {
      "text/plain": [
       "AdaBoostClassifier(n_estimators=100, random_state=0)"
      ]
     },
     "execution_count": 10,
     "metadata": {},
     "output_type": "execute_result"
    }
   ],
   "source": [
    "clf = AdaBoostClassifier(n_estimators=100, random_state=0)\n",
    "clf.fit(X, y)"
   ]
  },
  {
   "cell_type": "code",
   "execution_count": 11,
   "id": "fe95379b",
   "metadata": {},
   "outputs": [
    {
     "data": {
      "text/plain": [
       "0.983"
      ]
     },
     "execution_count": 11,
     "metadata": {},
     "output_type": "execute_result"
    }
   ],
   "source": [
    "clf.score(X, y)"
   ]
  },
  {
   "cell_type": "code",
   "execution_count": 12,
   "id": "711e5cf7",
   "metadata": {},
   "outputs": [],
   "source": [
    "X_train,X_val,Y_train,Y_val = train_test_split(X,y,test_size=0.50,random_state=28)"
   ]
  },
  {
   "cell_type": "code",
   "execution_count": 20,
   "id": "37fe0980",
   "metadata": {},
   "outputs": [],
   "source": [
    "from sklearn.ensemble import AdaBoostClassifier\n",
    "from sklearn.tree import DecisionTreeClassifier\n",
    "classifier = AdaBoostClassifier(\n",
    "    DecisionTreeClassifier(max_depth=1),\n",
    "    n_estimators=200\n",
    ")\n",
    "classifier.fit(X_train,Y_train)\n",
    "predictions = classifier.predict(X_val)\n",
    "cm=confusion_matrix(Y_val, predictions)"
   ]
  },
  {
   "cell_type": "code",
   "execution_count": 19,
   "id": "0284b91f",
   "metadata": {},
   "outputs": [
    {
     "data": {
      "image/png": "[encoded data removed]",
      "text/plain": [
       "<Figure size 432x288 with 2 Axes>"
      ]
     },
     "metadata": {
      "needs_background": "light"
     },
     "output_type": "display_data"
    }
   ],
   "source": [
    "import seaborn as sns\n",
    "import matplotlib.pyplot as plt  \n",
    "ax= plt.subplot()\n",
    "sns.heatmap(cm, annot=True, ax = ax, fmt = 'g'); #annot=True to annotate cells\n",
    "# labels, title and ticks\n",
    "ax.set_xlabel('Predicted', fontsize=20)\n",
    "ax.xaxis.set_label_position('top') \n",
    "ax.xaxis.set_ticklabels(['sentiment', 'gender'], fontsize = 15)\n",
    "ax.xaxis.tick_top()\n",
    "\n",
    "ax.set_ylabel('True', fontsize=20)\n",
    "ax.yaxis.set_ticklabels(['gender', 'sentiment'], fontsize = 15)\n",
    "plt.show()\n"
   ]
  },
  {
   "cell_type": "code",
   "execution_count": 14,
   "id": "9538ac0c",
   "metadata": {},
   "outputs": [],
   "source": [
    "adb = AdaBoostClassifier()\n",
    "adb_model = adb.fit(X_train,Y_train)"
   ]
  },
  {
   "cell_type": "code",
   "execution_count": 15,
   "id": "439e94e9",
   "metadata": {},
   "outputs": [
    {
     "name": "stdout",
     "output_type": "stream",
     "text": [
      "The accuracy of the model on validation set is 0.926\n"
     ]
    }
   ],
   "source": [
    "print(\"The accuracy of the model on validation set is\", adb_model.score(X_val,Y_val))"
   ]
  },
  {
   "cell_type": "code",
   "execution_count": 16,
   "id": "18449e4a",
   "metadata": {},
   "outputs": [],
   "source": [
    "import pandas as pd\n",
    "import matplotlib.pyplot as plt\n",
    "data=pd.read_csv('Dataset - Sheet1.csv')"
   ]
  },
  {
   "cell_type": "code",
   "execution_count": 17,
   "id": "43bb2378",
   "metadata": {},
   "outputs": [
    {
     "data": {
      "text/html": [
       "<div>\n",
       "<style scoped>\n",
       "    .dataframe tbody tr th:only-of-type {\n",
       "        vertical-align: middle;\n",
       "    }\n",
       "\n",
       "    .dataframe tbody tr th {\n",
       "        vertical-align: top;\n",
       "    }\n",
       "\n",
       "    .dataframe thead th {\n",
       "        text-align: right;\n",
       "    }\n",
       "</style>\n",
       "<table border=\"1\" class=\"dataframe\">\n",
       "  <thead>\n",
       "    <tr style=\"text-align: right;\">\n",
       "      <th></th>\n",
       "      <th>Id</th>\n",
       "      <th>Sentiment</th>\n",
       "      <th>Day</th>\n",
       "      <th>SentimentText</th>\n",
       "      <th>Year</th>\n",
       "      <th>Gender</th>\n",
       "    </tr>\n",
       "  </thead>\n",
       "  <tbody>\n",
       "    <tr>\n",
       "      <th>0</th>\n",
       "      <td>1792642663</td>\n",
       "      <td>0</td>\n",
       "      <td>Mon</td>\n",
       "      <td>is so sad for my APL friend.............</td>\n",
       "      <td>2018</td>\n",
       "      <td>Male</td>\n",
       "    </tr>\n",
       "    <tr>\n",
       "      <th>1</th>\n",
       "      <td>1467810672</td>\n",
       "      <td>0</td>\n",
       "      <td>Tue</td>\n",
       "      <td>I missed the New Moon trailer...</td>\n",
       "      <td>2018</td>\n",
       "      <td>Male</td>\n",
       "    </tr>\n",
       "    <tr>\n",
       "      <th>2</th>\n",
       "      <td>1467810917</td>\n",
       "      <td>1</td>\n",
       "      <td>Wed</td>\n",
       "      <td>omg its already 7:30 :O</td>\n",
       "      <td>2018</td>\n",
       "      <td>Male</td>\n",
       "    </tr>\n",
       "    <tr>\n",
       "      <th>3</th>\n",
       "      <td>1467811184</td>\n",
       "      <td>0</td>\n",
       "      <td>Thu</td>\n",
       "      <td>.. Omgaga. Im sooo im gunna CRy. I've been at ...</td>\n",
       "      <td>2018</td>\n",
       "      <td>Male</td>\n",
       "    </tr>\n",
       "    <tr>\n",
       "      <th>4</th>\n",
       "      <td>1467811193</td>\n",
       "      <td>0</td>\n",
       "      <td>Fri</td>\n",
       "      <td>i think mi bf is cheating on me!!!  T_T</td>\n",
       "      <td>2018</td>\n",
       "      <td>Male</td>\n",
       "    </tr>\n",
       "  </tbody>\n",
       "</table>\n",
       "</div>"
      ],
      "text/plain": [
       "           Id  Sentiment  Day  \\\n",
       "0  1792642663          0  Mon   \n",
       "1  1467810672          0  Tue   \n",
       "2  1467810917          1  Wed   \n",
       "3  1467811184          0  Thu   \n",
       "4  1467811193          0  Fri   \n",
       "\n",
       "                                       SentimentText  Year Gender  \n",
       "0           is so sad for my APL friend.............  2018   Male  \n",
       "1                   I missed the New Moon trailer...  2018   Male  \n",
       "2                            omg its already 7:30 :O  2018   Male  \n",
       "3  .. Omgaga. Im sooo im gunna CRy. I've been at ...  2018   Male  \n",
       "4            i think mi bf is cheating on me!!!  T_T  2018   Male  "
      ]
     },
     "execution_count": 17,
     "metadata": {},
     "output_type": "execute_result"
    }
   ],
   "source": [
    "data.head()"
   ]
  },
  {
   "cell_type": "code",
   "execution_count": 18,
   "id": "0fbec584",
   "metadata": {},
   "outputs": [
    {
     "data": {
      "image/png": "[encoded data removed]",
      "text/plain": [
       "<Figure size 432x288 with 1 Axes>"
      ]
     },
     "metadata": {
      "needs_background": "light"
     },
     "output_type": "display_data"
    }
   ],
   "source": [
    "# importing packages\n",
    "import seaborn as sns\n",
    "import matplotlib.pyplot as plt\n",
    "import pandas as pd\n",
    "\n",
    "\n",
    "# reading the database\n",
    "data = pd.read_csv(\"Dataset - Sheet1.csv\")\n",
    "\n",
    "sns.lineplot(x='Day', y='Sentiment', data=data)\n",
    "plt.show()\n",
    "\n"
   ]
  },
  {
   "cell_type": "code",
   "execution_count": 19,
   "id": "bb66c3d1",
   "metadata": {},
   "outputs": [
    {
     "data": {
      "image/png": "[encoded data removed]",
      "text/plain": [
       "<Figure size 432x288 with 1 Axes>"
      ]
     },
     "metadata": {
      "needs_background": "light"
     },
     "output_type": "display_data"
    }
   ],
   "source": [
    "# importing packages\n",
    "import seaborn as sns\n",
    "import matplotlib.pyplot as plt\n",
    "import pandas as pd\n",
    "\n",
    "\n",
    "# reading the database\n",
    "data = pd.read_csv(\"Dataset - Sheet1.csv\")\n",
    "\n",
    "sns.barplot(x='Year',y='Sentiment', data=data,hue='Gender')\n",
    "\n",
    "plt.show()\n"
   ]
  },
  {
   "cell_type": "code",
   "execution_count": 20,
   "id": "7faeb198",
   "metadata": {},
   "outputs": [
    {
     "data": {
      "image/png": "[encoded data removed]",
      "text/plain": [
       "<Figure size 432x288 with 1 Axes>"
      ]
     },
     "metadata": {
      "needs_background": "light"
     },
     "output_type": "display_data"
    }
   ],
   "source": [
    "import pandas as pd\n",
    "import matplotlib.pyplot as plt\n",
    "\n",
    "\n",
    "# reading the database\n",
    "data = pd.read_csv(\"Dataset - Sheet1.csv\")\n",
    "\n",
    "# hostogram of total_bills\n",
    "plt.hist(data['Sentiment'])\n",
    "\n",
    "plt.title(\"Histogram\")\n",
    "\n",
    "# Adding the legends\n",
    "plt.show()\n"
   ]
  },
  {
   "cell_type": "code",
   "execution_count": 21,
   "id": "fc9b7d80",
   "metadata": {},
   "outputs": [
    {
     "data": {
      "image/png": "[encoded data removed]",
      "text/plain": [
       "<Figure size 432x288 with 1 Axes>"
      ]
     },
     "metadata": {
      "needs_background": "light"
     },
     "output_type": "display_data"
    }
   ],
   "source": [
    "import pandas as pd\n",
    "import matplotlib.pyplot as plt\n",
    "\n",
    "\n",
    "# reading the database\n",
    "data = pd.read_csv(\"Dataset - Sheet1.csv\")\n",
    "\n",
    "# Scatter plot with day against tip\n",
    "plt.plot(data['Sentiment'])\n",
    "plt.plot(data['Day'])\n",
    "\n",
    "# Adding Title to the Plot\n",
    "plt.title(\"Scatter Plot\")\n",
    "\n",
    "# Setting the X and Y labels\n",
    "plt.xlabel('Sentiment')\n",
    "plt.ylabel('Day')\n",
    "\n",
    "plt.show()\n"
   ]
  }
 ],
 "metadata": {
  "kernelspec": {
   "display_name": "Python 3 (ipykernel)",
   "language": "python",
   "name": "python3"
  },
  "language_info": {
   "codemirror_mode": {
    "name": "ipython",
    "version": 3
   },
   "file_extension": ".py",
   "mimetype": "text/x-python",
   "name": "python",
   "nbconvert_exporter": "python",
   "pygments_lexer": "ipython3",
   "version": "3.9.7"
  }
 },
 "nbformat": 4,
 "nbformat_minor": 5
}
